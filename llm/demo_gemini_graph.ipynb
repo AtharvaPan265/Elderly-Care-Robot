{
 "cells": [
  {
   "cell_type": "code",
   "execution_count": 1,
   "id": "b54b3444",
   "metadata": {},
   "outputs": [],
   "source": [
    "# Install required packages\n",
    "# pip install langgraph langchain-google-genai\n",
    "\n",
    "import os\n",
    "from typing import Annotated, Sequence, TypedDict\n",
    "from langchain_core.messages import BaseMessage, HumanMessage\n",
    "from langchain_google_genai import ChatGoogleGenerativeAI\n",
    "from langgraph.graph import StateGraph, END\n",
    "from langgraph.graph.message import add_messages\n",
    "from IPython.display import Image, display\n",
    "from dotenv import load_dotenv"
   ]
  },
  {
   "cell_type": "code",
   "execution_count": 9,
   "id": "c5b01fa8",
   "metadata": {},
   "outputs": [
    {
     "name": "stdout",
     "output_type": "stream",
     "text": [
      "Total characters loaded: 2349\n",
      "First 100 characters: Image_UID: picture1\n",
      "People: Tippi Hedren\n",
      "Year: \n",
      "Event: \n",
      "Story: \n",
      "Image_UID: picture10\n",
      "People: Melanie\n"
     ]
    }
   ],
   "source": [
    "import os\n",
    "from pathlib import Path\n",
    "\n",
    "def load_all_txt_files(directory_path):\n",
    "    \"\"\"\n",
    "    Load all .txt files from a directory into a single large string.\n",
    "    \n",
    "    Args:\n",
    "        directory_path: Path to the directory containing .txt files\n",
    "    \n",
    "    Returns:\n",
    "        A single string containing all text file contents\n",
    "    \"\"\"\n",
    "    combined_string = \"\"\n",
    "    \n",
    "    # Get all .txt files from the directory\n",
    "    txt_files = sorted(Path(directory_path).glob(\"*.txt\"))\n",
    "    \n",
    "    # Read each file and append to the combined string\n",
    "    for txt_file in txt_files:\n",
    "        try:\n",
    "            with open(txt_file, 'r', encoding='utf-8') as file:\n",
    "                content = file.read()\n",
    "                combined_string += content\n",
    "                # Optional: Add separator between files\n",
    "                # combined_string += \"\\n\\n---\\n\\n\"\n",
    "        except Exception as e:\n",
    "            print(f\"Error reading {txt_file}: {e}\")\n",
    "    \n",
    "    return combined_string\n",
    "\n",
    "# Example usage\n",
    "directory = \"src/data/parsedMemories\"  # Current directory, or specify your path\n",
    "result = load_all_txt_files(directory)\n",
    "print(f\"Total characters loaded: {len(result)}\")\n",
    "print(f\"First 100 characters: {result[:100]}\")\n"
   ]
  },
  {
   "cell_type": "code",
   "execution_count": 11,
   "id": "d7414771",
   "metadata": {},
   "outputs": [
    {
     "name": "stdout",
     "output_type": "stream",
     "text": [
      "Tippi Hedren (Nathalie Kay Hedren) is 95 years old, born on January 19 1930 in New Ulm, Minnesota. They work as actress, model, animal rights activist. Their first favorite film was Gone with the Wind (1939), and their favorite starring role was \"Marnie\". Their favorite leading man is Sean Connery. They have a fear of spiders, and their favorite color is red.\n"
     ]
    }
   ],
   "source": [
    "def load_textfile_as_string(file_path):\n",
    "    \"\"\"\n",
    "    Load a text file and return its contents as a string.\n",
    "    \n",
    "    Args:\n",
    "        file_path: Path to the text file\n",
    "    \n",
    "    Returns:\n",
    "        String containing the file contents\n",
    "    \"\"\"\n",
    "    with open(file_path, 'r', encoding='utf-8') as file:\n",
    "        content = file.read()\n",
    "    return content\n",
    "\n",
    "text = load_textfile_as_string(\"src/data/facts.txt\")\n",
    "print(text)"
   ]
  },
  {
   "cell_type": "code",
   "execution_count": 12,
   "id": "378c8590",
   "metadata": {},
   "outputs": [
    {
     "data": {
      "image/png": "[encoded data removed]",
      "text/plain": [
       "<IPython.core.display.Image object>"
      ]
     },
     "metadata": {},
     "output_type": "display_data"
    }
   ],
   "source": [
    "from langchain_core.messages import SystemMessage\n",
    "\n",
    "# Set your API key\n",
    "load_dotenv(\".env\")\n",
    "\n",
    "# Set your API key\n",
    "os.environ[\"GOOGLE_API_KEY\"] = os.getenv(\"GOOGLE_API_KEY\")\n",
    "\n",
    "# Define the state\n",
    "class ChatState(TypedDict):\n",
    "    \"\"\"The state of the chat.\"\"\"\n",
    "    messages: Annotated[Sequence[BaseMessage], add_messages]\n",
    "\n",
    "# Initialize Gemini model\n",
    "llm = ChatGoogleGenerativeAI(\n",
    "    model=\"gemini-2.0-flash-exp\",\n",
    "    temperature=0.7,\n",
    "    max_retries=2,\n",
    ")\n",
    "\n",
    "# Define the chat node\n",
    "# Add a system message here. Two options:\n",
    "\n",
    "# Option A (recommended): define a SystemMessage constant and prepend it inside chat_node\n",
    "SYSTEM_MESSAGE = SystemMessage(content=\"You are a helpful assistant that answers concisely. Your user is \" + load_textfile_as_string(\"src/data/facts.txt\") + \" Here is the additional memories about your user:\" + load_all_txt_files(directory))\n",
    "\n",
    "# Then modify chat_node to use:\n",
    "#   messages = [SYSTEM_MESSAGE] + list(state[\"messages\"])\n",
    "#   response = llm.invoke(messages)\n",
    "\n",
    "# Option B: include the system message when launching the graph (CELL INDEX 2):\n",
    "#   inputs = {\"messages\": [SYSTEM_MESSAGE, HumanMessage(content=\"Hello! Tell me about LangGraph.\")]}\n",
    "def chat_node(state: ChatState):\n",
    "    \"\"\"Process messages with Gemini.\"\"\"\n",
    "    messages = [SYSTEM_MESSAGE] + list(state[\"messages\"])\n",
    "    response = llm.invoke(messages)\n",
    "    return {\"messages\": [response]}\n",
    "\n",
    "# Create the graph\n",
    "workflow = StateGraph(ChatState)\n",
    "\n",
    "# Add the chat node\n",
    "workflow.add_node(\"chat\", chat_node)\n",
    "\n",
    "# Set entry point and edges\n",
    "workflow.set_entry_point(\"chat\")\n",
    "workflow.add_edge(\"chat\", END)\n",
    "\n",
    "# Compile the graph\n",
    "graph = workflow.compile()\n",
    "display(Image(graph.get_graph().draw_mermaid_png()))\n"
   ]
  },
  {
   "cell_type": "code",
   "execution_count": null,
   "id": "d7dab83f",
   "metadata": {},
   "outputs": [
    {
     "name": "stdout",
     "output_type": "stream",
     "text": [
      "LangGraph Interactive Chat (with history)\n",
      "Type 'exit' or 'quit' to end the conversation\n",
      "--------------------------------------------------\n",
      "\n",
      "Assistant: Hello! How can I help you today, Tippi?\n",
      "\n",
      "Assistant: Your greatest fear is spiders.\n",
      "\n",
      "Assistant: You were born in New Ulm, Minnesota.\n",
      "\n",
      "Assistant: The first thing you asked me was \"hello\".\n",
      "\n",
      "Assistant: You have taken photos with Melanie, Steven, Alexander, Alfred, Peter, Dakota, Stella, Antonio, Don and Noel.\n",
      "Goodbye!\n"
     ]
    }
   ],
   "source": [
    "from langchain_core.messages import HumanMessage\n",
    "\n",
    "# Run the graph with user input and conversation history\n",
    "if __name__ == \"__main__\":\n",
    "    print(\"LangGraph Interactive Chat (with history)\")\n",
    "    print(\"Type 'exit' or 'quit' to end the conversation\")\n",
    "    print(\"-\" * 50)\n",
    "    \n",
    "    conversation_history = []\n",
    "    \n",
    "    while True:\n",
    "        # Get user input\n",
    "        user_input = input(\"\\nEnter your message: \").strip()\n",
    "        \n",
    "        # Check for exit commands\n",
    "        if user_input.lower() in ['exit', 'quit', 'q']:\n",
    "            print(\"Goodbye!\")\n",
    "            break\n",
    "        \n",
    "        # Skip empty inputs\n",
    "        if not user_input:\n",
    "            continue\n",
    "        \n",
    "        # Print user input\n",
    "        print(f\"\\nYou: {user_input}\")\n",
    "        \n",
    "        # Add user message to history\n",
    "        conversation_history.append(HumanMessage(content=user_input))\n",
    "        \n",
    "        # Create inputs with full conversation history\n",
    "        inputs = {\"messages\": conversation_history}\n",
    "        \n",
    "        # Stream the response\n",
    "        print(\"\\nAssistant: \", end=\"\")\n",
    "        for state in graph.stream(inputs, stream_mode=\"values\"):\n",
    "            last_message = state[\"messages\"][-1]\n",
    "            # Add assistant's response to history\n",
    "            if last_message.type != \"human\" and last_message not in conversation_history:\n",
    "                conversation_history.append(last_message)\n",
    "                print(last_message.content, end=\"\")\n",
    "        print()  # New line after response\n"
   ]
  }
 ],
 "metadata": {
  "kernelspec": {
   "display_name": "llm",
   "language": "python",
   "name": "python3"
  },
  "language_info": {
   "codemirror_mode": {
    "name": "ipython",
    "version": 3
   },
   "file_extension": ".py",
   "mimetype": "text/x-python",
   "name": "python",
   "nbconvert_exporter": "python",
   "pygments_lexer": "ipython3",
   "version": "3.11.14"
  }
 },
 "nbformat": 4,
 "nbformat_minor": 5
}
